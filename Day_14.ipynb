{
 "cells": [
  {
   "cell_type": "code",
   "execution_count": 1,
   "id": "9aa8be78",
   "metadata": {},
   "outputs": [],
   "source": [
    "import numpy as np \n",
    "import matplotlib.pyplot as plt"
   ]
  },
  {
   "cell_type": "code",
   "execution_count": 2,
   "id": "ef0bc640",
   "metadata": {},
   "outputs": [],
   "source": [
    "x=np.linspace(-10,10,50)"
   ]
  },
  {
   "cell_type": "code",
   "execution_count": 3,
   "id": "6d8ac98b",
   "metadata": {},
   "outputs": [
    {
     "data": {
      "text/plain": [
       "array([4.68044088e-05, 7.03070241e-05, 1.05610121e-04, 1.58637066e-04,\n",
       "       2.38282546e-04, 3.57900600e-04, 5.37534740e-04, 8.07256368e-04,\n",
       "       1.21215349e-03, 1.81976578e-03, 2.73112107e-03, 4.09701807e-03,\n",
       "       6.14182475e-03, 9.19776151e-03, 1.37531742e-02, 2.05180425e-02,\n",
       "       3.05074644e-02, 4.51362237e-02, 6.62999705e-02, 9.63854216e-02,\n",
       "       1.38103696e-01, 1.94002072e-01, 2.65554729e-01, 3.51973269e-01,\n",
       "       4.49310015e-01, 5.50689985e-01, 6.48026731e-01, 7.34445271e-01,\n",
       "       8.05997928e-01, 8.61896304e-01, 9.03614578e-01, 9.33700029e-01,\n",
       "       9.54863776e-01, 9.69492536e-01, 9.79481958e-01, 9.86246826e-01,\n",
       "       9.90802238e-01, 9.93858175e-01, 9.95902982e-01, 9.97268879e-01,\n",
       "       9.98180234e-01, 9.98787847e-01, 9.99192744e-01, 9.99462465e-01,\n",
       "       9.99642099e-01, 9.99761717e-01, 9.99841363e-01, 9.99894390e-01,\n",
       "       9.99929693e-01, 9.99953196e-01])"
      ]
     },
     "execution_count": 3,
     "metadata": {},
     "output_type": "execute_result"
    }
   ],
   "source": [
    "y = 1/(1+2.71**(-x))\n",
    "y"
   ]
  },
  {
   "cell_type": "code",
   "execution_count": 4,
   "id": "18600cbd",
   "metadata": {},
   "outputs": [
    {
     "data": {
      "text/plain": [
       "[<matplotlib.lines.Line2D at 0x174215785e0>]"
      ]
     },
     "execution_count": 4,
     "metadata": {},
     "output_type": "execute_result"
    },
    {
     "data": {
      "image/png": "[encoded data removed]",
      "text/plain": [
       "<Figure size 432x288 with 1 Axes>"
      ]
     },
     "metadata": {
      "needs_background": "light"
     },
     "output_type": "display_data"
    }
   ],
   "source": [
    "plt.plot(x,y)"
   ]
  },
  {
   "cell_type": "code",
   "execution_count": 5,
   "id": "8a7bdab6",
   "metadata": {},
   "outputs": [
    {
     "data": {
      "text/plain": [
       "<matplotlib.collections.PathCollection at 0x17421d2f7f0>"
      ]
     },
     "execution_count": 5,
     "metadata": {},
     "output_type": "execute_result"
    },
    {
     "data": {
      "image/png": "[encoded data removed]",
      "text/plain": [
       "<Figure size 432x288 with 1 Axes>"
      ]
     },
     "metadata": {
      "needs_background": "light"
     },
     "output_type": "display_data"
    }
   ],
   "source": [
    "plt.scatter(x,y)"
   ]
  },
  {
   "cell_type": "code",
   "execution_count": null,
   "id": "5d0ce741",
   "metadata": {},
   "outputs": [],
   "source": []
  }
 ],
 "metadata": {
  "kernelspec": {
   "display_name": "Python 3 (ipykernel)",
   "language": "python",
   "name": "python3"
  },
  "language_info": {
   "codemirror_mode": {
    "name": "ipython",
    "version": 3
   },
   "file_extension": ".py",
   "mimetype": "text/x-python",
   "name": "python",
   "nbconvert_exporter": "python",
   "pygments_lexer": "ipython3",
   "version": "3.9.7"
  }
 },
 "nbformat": 4,
 "nbformat_minor": 5
}
