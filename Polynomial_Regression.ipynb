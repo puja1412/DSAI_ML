{
 "cells": [
  {
   "cell_type": "code",
   "execution_count": 1,
   "id": "831ef54d",
   "metadata": {},
   "outputs": [],
   "source": [
    "import numpy as np\n",
    "import pandas as pd\n",
    "from sklearn.model_selection import train_test_split\n",
    "from sklearn.linear_model import LinearRegression\n",
    "from sklearn.metrics import r2_score\n",
    "from sklearn.preprocessing import PolynomialFeatures,StandardScaler\n",
    "import matplotlib.pyplot as plt"
   ]
  },
  {
   "cell_type": "code",
   "execution_count": 2,
   "id": "e86f2187",
   "metadata": {},
   "outputs": [],
   "source": [
    "x = 6*np.random.rand(200,1)-3\n",
    "y = 0.8 *x**2 + 0.9*x + np.random.randn(200,1)"
   ]
  },
  {
   "cell_type": "code",
   "execution_count": 3,
   "id": "06b4d269",
   "metadata": {},
   "outputs": [
    {
     "data": {
      "image/png": "[encoded data removed]",
      "text/plain": [
       "<Figure size 432x288 with 1 Axes>"
      ]
     },
     "metadata": {
      "needs_background": "light"
     },
     "output_type": "display_data"
    }
   ],
   "source": [
    "plt.plot(x,y,'g.')\n",
    "plt.xlabel('x')\n",
    "plt.ylabel('y')\n",
    "plt.show()"
   ]
  },
  {
   "cell_type": "code",
   "execution_count": 4,
   "id": "a8a8e1b8",
   "metadata": {},
   "outputs": [],
   "source": [
    "#train test split\n",
    "x_train,x_test,y_train,y_test =train_test_split(x,y,test_size=0.2, random_state=2)"
   ]
  },
  {
   "cell_type": "code",
   "execution_count": 5,
   "id": "cb1607cd",
   "metadata": {},
   "outputs": [
    {
     "data": {
      "text/plain": [
       "LinearRegression()"
      ]
     },
     "execution_count": 5,
     "metadata": {},
     "output_type": "execute_result"
    }
   ],
   "source": [
    "#Applying LinearRegression\n",
    "lr = LinearRegression()\n",
    "lr.fit(x_train,y_train)"
   ]
  },
  {
   "cell_type": "code",
   "execution_count": 6,
   "id": "0e3ecd98",
   "metadata": {},
   "outputs": [
    {
     "data": {
      "text/plain": [
       "0.11137642381209889"
      ]
     },
     "execution_count": 6,
     "metadata": {},
     "output_type": "execute_result"
    }
   ],
   "source": [
    "y_pred = lr.predict(x_test)\n",
    "r2_score(y_test,y_pred)"
   ]
  },
  {
   "cell_type": "code",
   "execution_count": 7,
   "id": "01d37177",
   "metadata": {},
   "outputs": [
    {
     "data": {
      "image/png": "[encoded data removed]",
      "text/plain": [
       "<Figure size 432x288 with 1 Axes>"
      ]
     },
     "metadata": {
      "needs_background": "light"
     },
     "output_type": "display_data"
    }
   ],
   "source": [
    "plt.plot(x_train,lr.predict(x_train),color='g')\n",
    "plt.plot(x,y,'r.')\n",
    "plt.xlabel('x')\n",
    "plt.ylabel('y')\n",
    "plt.show()"
   ]
  },
  {
   "cell_type": "code",
   "execution_count": 8,
   "id": "66e5e026",
   "metadata": {},
   "outputs": [
    {
     "name": "stdout",
     "output_type": "stream",
     "text": [
      "[-0.91825719]\n",
      "[1.         2.08670523 4.35433872]\n"
     ]
    }
   ],
   "source": [
    "#Applying Polynomial Regression with degree 2\n",
    "poly = PolynomialFeatures(degree=2, include_bias = True) #include bias\n",
    "x_train_trans = poly.fit_transform(x_train)\n",
    "x_test_trans = poly.transform(x_test)\n",
    "print(x_train[0])\n",
    "print(x_test_trans[0])"
   ]
  },
  {
   "cell_type": "code",
   "execution_count": 9,
   "id": "bc530b43",
   "metadata": {},
   "outputs": [
    {
     "name": "stdout",
     "output_type": "stream",
     "text": [
      "[-0.91825719]\n",
      "[2.08670523 4.35433872]\n"
     ]
    }
   ],
   "source": [
    "poly = PolynomialFeatures(degree=2, include_bias = False) #notinclude bias\n",
    "x_train_trans = poly.fit_transform(x_train)\n",
    "x_test_trans = poly.transform(x_test)\n",
    "print(x_train[0])\n",
    "print(x_test_trans[0])"
   ]
  },
  {
   "cell_type": "code",
   "execution_count": 10,
   "id": "e4723da7",
   "metadata": {},
   "outputs": [
    {
     "data": {
      "text/plain": [
       "LinearRegression()"
      ]
     },
     "execution_count": 10,
     "metadata": {},
     "output_type": "execute_result"
    }
   ],
   "source": [
    "lr = LinearRegression()\n",
    "lr.fit(x_train_trans,y_train)"
   ]
  },
  {
   "cell_type": "code",
   "execution_count": 11,
   "id": "ac4d6ac7",
   "metadata": {},
   "outputs": [
    {
     "data": {
      "text/plain": [
       "0.8680388838770938"
      ]
     },
     "execution_count": 11,
     "metadata": {},
     "output_type": "execute_result"
    }
   ],
   "source": [
    "y_pred =lr.predict(x_test_trans)\n",
    "r2_score(y_test,y_pred)"
   ]
  },
  {
   "cell_type": "code",
   "execution_count": null,
   "id": "12674ecb",
   "metadata": {},
   "outputs": [],
   "source": []
  }
 ],
 "metadata": {
  "kernelspec": {
   "display_name": "Python 3 (ipykernel)",
   "language": "python",
   "name": "python3"
  },
  "language_info": {
   "codemirror_mode": {
    "name": "ipython",
    "version": 3
   },
   "file_extension": ".py",
   "mimetype": "text/x-python",
   "name": "python",
   "nbconvert_exporter": "python",
   "pygments_lexer": "ipython3",
   "version": "3.9.7"
  }
 },
 "nbformat": 4,
 "nbformat_minor": 5
}
